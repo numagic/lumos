{
  "cells": [
    {
      "cell_type": "markdown",
      "metadata": {
        "id": "view-in-github",
        "colab_type": "text"
      },
      "source": [
        "<a href=\"https://colab.research.google.com/github/numagic/lumos/blob/update_colab_example/tutorials/colab/Brachistochrone.ipynb\" target=\"_parent\"><img src=\"https://colab.research.google.com/assets/colab-badge.svg\" alt=\"Open In Colab\"/></a>"
      ]
    },
    {
      "cell_type": "markdown",
      "metadata": {
        "id": "RwyQYIZbVKFh"
      },
      "source": [
        "# Introduction\n",
        "Usually it is recommended to use lumos with the docker image it provides. But we can also run `lumos` with conda environment.\n",
        "\n",
        "Google Colab provides free GPU and TPU VMs that one could use with jupyter notebook style UI, and this is what we're going to use.\n",
        "\n",
        "To set up the environment, we'll:\n",
        "1) install conda on google colab using `condacolab`\n",
        "2) clone the `lumos` git repo, and setup the conda environment (this will be replaced by pip install in the future)\n",
        "3) run laptime simulation example"
      ]
    },
    {
      "cell_type": "markdown",
      "metadata": {
        "id": "DBzkeuwE5oUV"
      },
      "source": [
        "# Install Conda on Google Colab\n",
        "\n",
        "<!-- By Jaime Rodríguez-Guerra <@jaimergp>. Last modified 2021.08.04 -->\n",
        "\n",
        "`condacolab` simplifies the setup as much as possible, but there are some gotchas.\n",
        "\n",
        "**⚠️ Read this before continuing!**\n",
        "\n",
        "* The `condacolab` commands need to be run the first Code cell!\n",
        "* Once you run `condacolab.install()`, the Python kernel will be restarted. This is **normal and expected**. After that, you can continue running the cells below like normal.\n",
        "* Do not use the `Run all` option. Run the `condacolab` cell _individually_ and wait for the kernel to restart. **Only then**, you can run all cells if you want.\n",
        "* You can only use the `base` environment. Do not try to create new ones; instead update `base` with either:\n",
        "  * `conda install <packages>`\n",
        "  * `conda env update -n base -f environment.yml`\n",
        "* If you want to use GPUs, make sure you are using such an instance before starting!\n",
        "* If you get an error, please raise an issue [here](https://github.com/jaimergp/condacolab/issues)."
      ]
    },
    {
      "cell_type": "code",
      "execution_count": 1,
      "metadata": {
        "colab": {
          "base_uri": "https://localhost:8080/"
        },
        "id": "LAZ11nESX6qt",
        "outputId": "25562aa3-1c09-43d3-af21-2715daf5a3c4"
      },
      "outputs": [
        {
          "output_type": "stream",
          "name": "stdout",
          "text": [
            "⏬ Downloading https://github.com/jaimergp/miniforge/releases/latest/download/Mambaforge-colab-Linux-x86_64.sh...\n",
            "📦 Installing...\n",
            "📌 Adjusting configuration...\n",
            "🩹 Patching environment...\n",
            "⏲ Done in 0:00:41\n",
            "🔁 Restarting kernel...\n"
          ]
        }
      ],
      "source": [
        "!pip install -q condacolab\n",
        "import condacolab\n",
        "condacolab.install()"
      ]
    },
    {
      "cell_type": "code",
      "execution_count": null,
      "metadata": {
        "colab": {
          "base_uri": "https://localhost:8080/"
        },
        "id": "wRDyL3hPYAOx",
        "outputId": "7d808b57-82c9-484d-d79f-0277513a088c"
      },
      "outputs": [
        {
          "output_type": "stream",
          "name": "stdout",
          "text": [
            "✨🍰✨ Everything looks OK!\n"
          ]
        }
      ],
      "source": [
        "import condacolab\n",
        "condacolab.check()"
      ]
    },
    {
      "cell_type": "code",
      "execution_count": 2,
      "metadata": {
        "colab": {
          "base_uri": "https://localhost:8080/"
        },
        "id": "KbliymBeS_Nf",
        "outputId": "ebb06148-5328-4024-8e06-b6515d38d0f6"
      },
      "outputs": [
        {
          "output_type": "stream",
          "name": "stdout",
          "text": [
            "Collecting package metadata (current_repodata.json): - \b\b\\ \b\b| \b\b/ \b\b- \b\b\\ \b\b| \b\b/ \b\b- \b\b\\ \b\b| \b\b/ \b\b- \b\b\\ \b\b| \b\b/ \b\b- \b\b\\ \b\b| \b\b/ \b\bdone\n",
            "Solving environment: \\ \b\b| \b\b/ \b\b- \b\b\\ \b\b| \b\b/ \b\b- \b\b\\ \b\b| \b\b/ \b\b- \b\b\\ \b\b| \b\b/ \b\b- \b\b\\ \b\b| \b\b/ \b\b- \b\b\\ \b\b| \b\b/ \b\b- \b\b\\ \b\b| \b\b/ \b\b- \b\b\\ \b\b| \b\b/ \b\b- \b\b\\ \b\b| \b\b/ \b\b- \b\b\\ \b\b| \b\b/ \b\b- \b\b\\ \b\b| \b\b/ \b\b- \b\b\\ \b\bdone\n",
            "\n",
            "# All requested packages already installed.\n",
            "\n",
            "Retrieving notices: ...working... done\n",
            "Looking in indexes: https://pypi.org/simple, https://us-python.pkg.dev/colab-wheels/public/simple/\n",
            "Requirement already satisfied: jax[cpu] in /usr/local/lib/python3.7/site-packages (0.3.16)\n",
            "Requirement already satisfied: casadi in /usr/local/lib/python3.7/site-packages (3.5.5)\n",
            "Requirement already satisfied: pyarrow in /usr/local/lib/python3.7/site-packages (9.0.0)\n",
            "Requirement already satisfied: pandas in /usr/local/lib/python3.7/site-packages (1.3.5)\n",
            "Requirement already satisfied: matplotlib in /usr/local/lib/python3.7/site-packages (3.5.3)\n",
            "Requirement already satisfied: numpy>=1.20 in /usr/local/lib/python3.7/site-packages (from jax[cpu]) (1.21.6)\n",
            "Requirement already satisfied: etils[epath] in /usr/local/lib/python3.7/site-packages (from jax[cpu]) (0.7.1)\n",
            "Requirement already satisfied: absl-py in /usr/local/lib/python3.7/site-packages (from jax[cpu]) (1.2.0)\n",
            "Requirement already satisfied: typing-extensions in /usr/local/lib/python3.7/site-packages (from jax[cpu]) (4.3.0)\n",
            "Requirement already satisfied: opt-einsum in /usr/local/lib/python3.7/site-packages (from jax[cpu]) (3.3.0)\n",
            "Requirement already satisfied: scipy>=1.5 in /usr/local/lib/python3.7/site-packages (from jax[cpu]) (1.7.3)\n",
            "Requirement already satisfied: jaxlib==0.3.15 in /usr/local/lib/python3.7/site-packages (from jax[cpu]) (0.3.15)\n",
            "Requirement already satisfied: fonttools>=4.22.0 in /usr/local/lib/python3.7/site-packages (from matplotlib) (4.36.0)\n",
            "Requirement already satisfied: kiwisolver>=1.0.1 in /usr/local/lib/python3.7/site-packages (from matplotlib) (1.4.4)\n",
            "Requirement already satisfied: packaging>=20.0 in /usr/local/lib/python3.7/site-packages (from matplotlib) (21.3)\n",
            "Requirement already satisfied: python-dateutil>=2.7 in /usr/local/lib/python3.7/site-packages (from matplotlib) (2.8.2)\n",
            "Requirement already satisfied: cycler>=0.10 in /usr/local/lib/python3.7/site-packages (from matplotlib) (0.11.0)\n",
            "Requirement already satisfied: pyparsing>=2.2.1 in /usr/local/lib/python3.7/site-packages (from matplotlib) (3.0.9)\n",
            "Requirement already satisfied: pillow>=6.2.0 in /usr/local/lib/python3.7/site-packages (from matplotlib) (9.2.0)\n",
            "Requirement already satisfied: six>=1.5 in /usr/local/lib/python3.7/site-packages (from python-dateutil>=2.7->matplotlib) (1.15.0)\n",
            "Requirement already satisfied: pytz>=2017.3 in /usr/local/lib/python3.7/site-packages (from pandas) (2022.2.1)\n",
            "Requirement already satisfied: zipp in /usr/local/lib/python3.7/site-packages (from etils[epath]->jax[cpu]) (3.8.1)\n",
            "Requirement already satisfied: importlib_resources in /usr/local/lib/python3.7/site-packages (from etils[epath]->jax[cpu]) (5.9.0)\n",
            "Looking in indexes: https://pypi.org/simple, https://us-python.pkg.dev/colab-wheels/public/simple/\n",
            "Requirement already satisfied: numagic-lumos==0.0.2rc5 in /usr/local/lib/python3.7/site-packages (0.0.2rc5)\n"
          ]
        }
      ],
      "source": [
        "# We could set up the dependencies using enviornment.yml\n",
        "# !git clone https://github.com/numagic/lumos\n",
        "# %cd /content/lumos\n",
        "# !git checkout dev\n",
        "# !conda env update -n base -f environment.yml\n",
        "\n",
        "# Or... we could direclty install them so we don't need to clone the repo\n",
        "# TODO: make dependency automatic -> this would require conda as there are\n",
        "# non-python dependencies\n",
        "!conda install -c conda-forge cyipopt\n",
        "!pip install jax[cpu] casadi pyarrow pandas matplotlib\n",
        "!pip install numagic-lumos==0.0.2rc5"
      ]
    },
    {
      "cell_type": "markdown",
      "metadata": {
        "id": "QiYXcrNuV5jt"
      },
      "source": [
        "# Run Brachistochrone example with automatic differentiation\n",
        "\n",
        "Note that unfortunately colab does not show the stdout printed to the terminal, therefore the user must use the command tabs: 'Runtime' -> 'View runtime logs' to see the stdout outputs, such as those from IPOPT."
      ]
    },
    {
      "cell_type": "code",
      "execution_count": 3,
      "metadata": {
        "colab": {
          "base_uri": "https://localhost:8080/",
          "height": 705
        },
        "id": "WVrfw3Ir0gwL",
        "outputId": "2eaa7b7e-5f1b-4ef7-a885-414083cf8ed4"
      },
      "outputs": [
        {
          "output_type": "stream",
          "name": "stderr",
          "text": [
            "INFO:lumos.optimal_control.scaled_mesh_ocp:Triggering jax JIT\n",
            "INFO:lumos.optimal_control.nlp:Time NLP execution\n",
            "INFO:lumos.optimal_control.nlp:time.objective: 0.000335\n",
            "INFO:lumos.optimal_control.nlp:time.gradient: 0.000023\n",
            "INFO:lumos.optimal_control.nlp:time.hessian: 0.000021\n",
            "INFO:absl:Unable to initialize backend 'tpu_driver': NOT_FOUND: Unable to find driver in registry given worker: \n",
            "INFO:absl:Unable to initialize backend 'cuda': module 'jaxlib.xla_extension' has no attribute 'GpuAllocatorConfig'\n",
            "INFO:absl:Unable to initialize backend 'rocm': module 'jaxlib.xla_extension' has no attribute 'GpuAllocatorConfig'\n",
            "INFO:absl:Unable to initialize backend 'tpu': INVALID_ARGUMENT: TpuPlatform is not available.\n",
            "WARNING:absl:No GPU/TPU found, falling back to CPU. (Set TF_CPP_MIN_LOG_LEVEL=0 and rerun for more info.)\n",
            "INFO:lumos.optimal_control.nlp:model_algebra.constraints: 0.000903\n",
            "INFO:lumos.optimal_control.nlp:model_algebra.jacobian: 0.000427\n",
            "INFO:lumos.optimal_control.nlp:model_algebra.hessian: 0.000429\n",
            "INFO:lumos.optimal_control.nlp:continuity.constraints: 0.001217\n",
            "INFO:lumos.optimal_control.nlp:continuity.jacobian: 0.001104\n",
            "INFO:lumos.optimal_control.nlp:continuity.hessian: 0.000719\n",
            "INFO:lumos.optimal_control.nlp:nlp.objective: 0.000473\n",
            "INFO:lumos.optimal_control.nlp:nlp.gradient: 0.000711\n",
            "INFO:lumos.optimal_control.nlp:nlp.constraints: 0.004315\n",
            "INFO:lumos.optimal_control.nlp:nlp.jacobian: 0.001402\n",
            "INFO:lumos.optimal_control.nlp:nlp.hessian: 0.000999\n",
            "INFO:lumos.optimal_control.scaled_mesh_ocp:Triggering jax JIT completed\n",
            "INFO:root:minimum height -0.650\n",
            "INFO:root:final time 0.566\n"
          ]
        },
        {
          "output_type": "display_data",
          "data": {
            "text/plain": [
              "<Figure size 432x288 with 2 Axes>"
            ],
            "image/png": "[encoded data removed]"
          },
          "metadata": {
            "needs_background": "light"
          }
        }
      ],
      "source": [
        "%matplotlib inline\n",
        "import logging\n",
        "import sys\n",
        "import numpy as np\n",
        "from typing import Any, Dict\n",
        "\n",
        "from matplotlib import pyplot as plt\n",
        "\n",
        "import lumos.numpy as lnp\n",
        "from lumos.models.base import StateSpaceModel, StateSpaceModelReturn, state_space_io\n",
        "from lumos.optimal_control.scaled_mesh_ocp import ScaledMeshOCP\n",
        "from lumos.optimal_control.config import (\n",
        "    BoundaryConditionConfig,\n",
        "    BoundConfig,\n",
        ")\n",
        "\n",
        "@state_space_io(states=(\"v\", \"x\", \"y\"), inputs=(\"theta\",), outputs=(\"theta\",))\n",
        "class Brachistochrone(StateSpaceModel):\n",
        "    \"\"\"The Brachistochrone model formulatd in the time domain\"\"\"\n",
        "\n",
        "    def __init__(\n",
        "        self, model_config: Dict[str, Any] = {}, params: Dict[str, Any] = {},\n",
        "    ):\n",
        "        super().__init__(model_config=model_config, params=params)\n",
        "\n",
        "    def forward(\n",
        "        self,\n",
        "        states: Dict[str, float],\n",
        "        inputs: Dict[str, float],\n",
        "        mesh: float = 0.0,  # time invariant model\n",
        "    ) -> StateSpaceModelReturn:\n",
        "        params = self._params\n",
        "        theta = inputs[\"theta\"]\n",
        "        v = states[\"v\"]\n",
        "        v_dot = -params[\"gravity\"] * lnp.sin(theta)\n",
        "\n",
        "        dx_dt = lnp.cos(theta) * v\n",
        "        dy_dt = lnp.sin(theta) * v\n",
        "\n",
        "        # Assemble result\n",
        "        states_dot = self.make_dict(group=\"states_dot\", v=v_dot, x=dx_dt, y=dy_dt,)\n",
        "        outputs = self.make_dict(group=\"outputs\", theta=theta)\n",
        "        return self.make_state_space_model_return(\n",
        "            states_dot=states_dot, outputs=outputs\n",
        "        )\n",
        "\n",
        "    @classmethod\n",
        "    def get_default_params(self) -> Dict[str, Any]:\n",
        "        return {\"gravity\": 9.81}\n",
        "\n",
        "\n",
        "def solve_with_ad(dx, dy, backend):\n",
        "    model = Brachistochrone()\n",
        "    sim_config = ScaledMeshOCP.get_sim_config(\n",
        "        boundary_conditions=(\n",
        "            BoundaryConditionConfig(0, \"states\", \"x\", 0.0),\n",
        "            BoundaryConditionConfig(0, \"states\", \"y\", 0.0),\n",
        "            BoundaryConditionConfig(0, \"states\", \"v\", 0.0),\n",
        "            BoundaryConditionConfig(-1, \"states\", \"x\", dx),\n",
        "            BoundaryConditionConfig(-1, \"states\", \"y\", dy),\n",
        "        ),\n",
        "        bounds=(\n",
        "            BoundConfig(\"global\", \"mesh_scale\", (0.01, 10.0)),\n",
        "            BoundConfig(\"inputs\", \"theta\", (-np.pi / 2, np.pi / 2)),\n",
        "        ),\n",
        "        num_intervals=49,\n",
        "        hessian_approximation=\"exact\",\n",
        "        backend=backend,\n",
        "        # transcription=\"LGR\",\n",
        "        # is_condensed=False,\n",
        "    )\n",
        "    ocp = ScaledMeshOCP(model=model, sim_config=sim_config)\n",
        "    # Very casual initial guess -- just all zeros.\n",
        "    x0 = np.zeros(ocp.num_dec)\n",
        "    solution, info = ocp.solve(\n",
        "        x0,\n",
        "        max_iter=200,\n",
        "        print_level=1,\n",
        "        print_timing_statistics=\"no\",\n",
        "        derivative_test=\"none\",\n",
        "    )\n",
        "    vars = ocp.dec_var_operator.unflatten_var(solution)\n",
        "    op = ocp.dec_var_operator\n",
        "    final_t = ocp.objective(solution)\n",
        "    y = vars.states[:, op.get_var_index_in_group(\"states\", \"y\")]\n",
        "    x = vars.states[:, op.get_var_index_in_group(\"states\", \"x\")]\n",
        "    v = vars.states[:, op.get_var_index_in_group(\"states\", \"v\")]\n",
        "    theta = vars.states[:, op.get_var_index_in_group(\"inputs\", \"theta\")]\n",
        "    t = ocp.get_mesh_from_scale(vars.mesh_scale)\n",
        "    min_y = np.min(y)\n",
        "    logger.info(f\"minimum height {min_y:.3f}\")\n",
        "    logger.info(f\"final time {final_t:.3f}\")\n",
        "    return t, x, y, v, theta\n",
        "\n",
        "logger = logging.getLogger()\n",
        "logger.setLevel(logging.INFO)\n",
        "t, x, y, v, theta = solve_with_ad(1.0, -0.65, backend=\"jax\")\n",
        "\n",
        "# Visualize the result\n",
        "fig = plt.figure()\n",
        "ax1 = fig.add_subplot(211)\n",
        "ax1.set_xlabel('x')\n",
        "ax1.set_ylabel('y')\n",
        "ax1.plot(x, y)\n",
        "ax1.set_aspect('equal', adjustable='box')\n",
        "\n",
        "ax2 = fig.add_subplot(212)\n",
        "ax2.set_xlabel('t')\n",
        "ax2.set_ylabel('v')\n",
        "ax2.plot(t, v)\n",
        "\n",
        "fig.tight_layout()"
      ]
    },
    {
      "cell_type": "code",
      "source": [
        ""
      ],
      "metadata": {
        "id": "31hN3AsE8pSi"
      },
      "execution_count": null,
      "outputs": []
    }
  ],
  "metadata": {
    "colab": {
      "collapsed_sections": [],
      "name": "Brachistochrone",
      "provenance": [],
      "toc_visible": true,
      "include_colab_link": true
    },
    "kernelspec": {
      "display_name": "Python 3",
      "name": "python3"
    }
  },
  "nbformat": 4,
  "nbformat_minor": 0
}