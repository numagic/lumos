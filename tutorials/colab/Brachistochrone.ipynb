{
  "cells": [
    {
      "cell_type": "markdown",
      "metadata": {
        "id": "view-in-github",
        "colab_type": "text"
      },
      "source": [
        "<a href=\"https://colab.research.google.com/github/numagic/lumos/blob/main/tutorials/colab/Brachistochrone.ipynb\" target=\"_parent\"><img src=\"https://colab.research.google.com/assets/colab-badge.svg\" alt=\"Open In Colab\"/></a>"
      ]
    },
    {
      "cell_type": "markdown",
      "metadata": {
        "id": "RwyQYIZbVKFh"
      },
      "source": [
        "# Introduction\n",
        "Usually it is recommended to use lumos with the docker image it provides. But we can also run `lumos` with conda environment.\n",
        "\n",
        "Google Colab provides free GPU and TPU VMs that one could use with jupyter notebook style UI, and this is what we're going to use.\n",
        "\n",
        "To set up the environment, we'll:\n",
        "1) install conda on google colab using `condacolab`\n",
        "2) clone the `lumos` git repo, and setup the conda environment (this will be replaced by pip install in the future)\n",
        "3) run laptime simulation example"
      ]
    },
    {
      "cell_type": "markdown",
      "metadata": {
        "id": "DBzkeuwE5oUV"
      },
      "source": [
        "# Install Conda on Google Colab\n",
        "\n",
        "<!-- By Jaime Rodríguez-Guerra <@jaimergp>. Last modified 2021.08.04 -->\n",
        "\n",
        "`condacolab` simplifies the setup as much as possible, but there are some gotchas.\n",
        "\n",
        "**⚠️ Read this before continuing!**\n",
        "\n",
        "* The `condacolab` commands need to be run the first Code cell!\n",
        "* Once you run `condacolab.install()`, the Python kernel will be restarted. This is **normal and expected**. After that, you can continue running the cells below like normal.\n",
        "* Do not use the `Run all` option. Run the `condacolab` cell _individually_ and wait for the kernel to restart. **Only then**, you can run all cells if you want.\n",
        "* You can only use the `base` environment. Do not try to create new ones; instead update `base` with either:\n",
        "  * `conda install <packages>`\n",
        "  * `conda env update -n base -f environment.yml`\n",
        "* If you want to use GPUs, make sure you are using such an instance before starting!\n",
        "* If you get an error, please raise an issue [here](https://github.com/jaimergp/condacolab/issues)."
      ]
    },
    {
      "cell_type": "code",
      "execution_count": 1,
      "metadata": {
        "colab": {
          "base_uri": "https://localhost:8080/"
        },
        "id": "LAZ11nESX6qt",
        "outputId": "9e7f0e94-8ec8-4bf3-a1a5-f3b53a32069d"
      },
      "outputs": [
        {
          "output_type": "stream",
          "name": "stdout",
          "text": [
            "⏬ Downloading https://github.com/jaimergp/miniforge/releases/latest/download/Mambaforge-colab-Linux-x86_64.sh...\n",
            "📦 Installing...\n",
            "📌 Adjusting configuration...\n",
            "🩹 Patching environment...\n",
            "⏲ Done in 0:00:26\n",
            "🔁 Restarting kernel...\n"
          ]
        }
      ],
      "source": [
        "!pip install -q condacolab\n",
        "import condacolab\n",
        "condacolab.install()"
      ]
    },
    {
      "cell_type": "code",
      "execution_count": 1,
      "metadata": {
        "colab": {
          "base_uri": "https://localhost:8080/"
        },
        "id": "wRDyL3hPYAOx",
        "outputId": "9ddf1979-a4f4-47d2-d290-d5a6a326b50d"
      },
      "outputs": [
        {
          "output_type": "stream",
          "name": "stdout",
          "text": [
            "✨🍰✨ Everything looks OK!\n"
          ]
        }
      ],
      "source": [
        "import condacolab\n",
        "condacolab.check()"
      ]
    },
    {
      "cell_type": "code",
      "execution_count": 2,
      "metadata": {
        "colab": {
          "base_uri": "https://localhost:8080/",
          "height": 1000
        },
        "id": "KbliymBeS_Nf",
        "outputId": "78ec86d8-7d10-4119-fb92-a152ac4c9bb6"
      },
      "outputs": [
        {
          "output_type": "stream",
          "name": "stdout",
          "text": [
            "Collecting package metadata (current_repodata.json): - \b\b\\ \b\b| \b\b/ \b\b- \b\b\\ \b\b| \b\b/ \b\b- \b\b\\ \b\b| \b\b/ \b\b- \b\b\\ \b\b| \b\b/ \b\b- \b\b\\ \b\b| \b\b/ \b\b- \b\b\\ \b\b| \b\b/ \b\b- \b\b\\ \b\b| \b\b/ \b\b- \b\b\\ \b\b| \b\b/ \b\b- \b\b\\ \b\b| \b\b/ \b\b- \b\b\\ \b\b| \b\b/ \b\b- \b\b\\ \b\b| \b\b/ \b\b- \b\b\\ \b\b| \b\b/ \b\b- \b\b\\ \b\b| \b\b/ \b\b- \b\b\\ \b\b| \b\b/ \b\b- \b\b\\ \b\b| \b\b/ \b\b- \b\b\\ \b\b| \b\b/ \b\b- \b\b\\ \b\b| \b\b/ \b\b- \b\b\\ \b\b| \b\b/ \b\b- \b\b\\ \b\b| \b\b/ \b\b- \b\b\\ \b\b| \b\b/ \b\b- \b\b\\ \b\b| \b\b/ \b\b- \b\b\\ \b\b| \b\b/ \b\b- \b\b\\ \b\b| \b\b/ \b\b- \b\b\\ \b\b| \b\b/ \b\b- \b\b\\ \b\b| \b\b/ \b\b- \b\b\\ \b\b| \b\b/ \b\b- \b\bdone\n",
            "Solving environment: | \b\b/ \b\b- \b\b\\ \b\b| \b\b/ \b\b- \b\b\\ \b\b| \b\b/ \b\b- \b\b\\ \b\b| \b\b/ \b\b- \b\b\\ \b\b| \b\b/ \b\b- \b\b\\ \b\b| \b\b/ \b\b- \b\b\\ \b\b| \b\b/ \b\b- \b\b\\ \b\b| \b\b/ \b\b- \b\b\\ \b\b| \b\b/ \b\b- \b\b\\ \b\b| \b\b/ \b\b- \b\b\\ \b\b| \b\b/ \b\b- \b\b\\ \b\b| \b\b/ \b\b- \b\b\\ \b\b| \b\b/ \b\b- \b\b\\ \b\b| \b\b/ \b\b- \b\b\\ \b\b| \b\bdone\n",
            "\n",
            "## Package Plan ##\n",
            "\n",
            "  environment location: /usr/local\n",
            "\n",
            "  added / updated specs:\n",
            "    - cyipopt\n",
            "\n",
            "\n",
            "The following packages will be downloaded:\n",
            "\n",
            "    package                    |            build\n",
            "    ---------------------------|-----------------\n",
            "    ampl-mp-3.1.0              |    h2cc385e_1006         1.1 MB  conda-forge\n",
            "    ca-certificates-2021.10.8  |       ha878542_0         139 KB  conda-forge\n",
            "    certifi-2021.10.8          |   py37h89c1867_2         145 KB  conda-forge\n",
            "    conda-4.12.0               |   py37h89c1867_0         1.0 MB  conda-forge\n",
            "    cyipopt-1.1.0              |   py37h4f1d67c_1         144 KB  conda-forge\n",
            "    future-0.18.2              |   py37h89c1867_5         713 KB  conda-forge\n",
            "    ipopt-3.14.6               |       h630875f_0         1.1 MB  conda-forge\n",
            "    libblas-3.9.0              |14_linux64_openblas          12 KB  conda-forge\n",
            "    libcblas-3.9.0             |14_linux64_openblas          12 KB  conda-forge\n",
            "    libgcc-ng-11.2.0           |      h1d223b6_16         902 KB  conda-forge\n",
            "    libgfortran-ng-11.2.0      |      h69a702a_16          23 KB  conda-forge\n",
            "    libgfortran5-11.2.0        |      h5c6108e_16         1.7 MB  conda-forge\n",
            "    libgomp-11.2.0             |      h1d223b6_16         428 KB  conda-forge\n",
            "    liblapack-3.9.0            |14_linux64_openblas          12 KB  conda-forge\n",
            "    libopenblas-0.3.20         |pthreads_h78a6416_0        10.1 MB  conda-forge\n",
            "    libstdcxx-ng-11.2.0        |      he4da1e4_16         4.2 MB  conda-forge\n",
            "    metis-5.1.0                |    h58526e2_1006         4.1 MB  conda-forge\n",
            "    mumps-include-5.2.1        |      ha770c72_11          23 KB  conda-forge\n",
            "    mumps-seq-5.2.1            |      h2104b81_11         3.3 MB  conda-forge\n",
            "    numpy-1.21.6               |   py37h976b520_0         6.1 MB  conda-forge\n",
            "    openssl-1.1.1o             |       h166bdaf_0         2.1 MB  conda-forge\n",
            "    python_abi-3.7             |          2_cp37m           4 KB  conda-forge\n",
            "    scotch-6.0.9               |       h3858553_1         1.3 MB  conda-forge\n",
            "    unixodbc-2.3.10            |       h583eb01_0         296 KB  conda-forge\n",
            "    ------------------------------------------------------------\n",
            "                                           Total:        38.9 MB\n",
            "\n",
            "The following NEW packages will be INSTALLED:\n",
            "\n",
            "  ampl-mp            conda-forge/linux-64::ampl-mp-3.1.0-h2cc385e_1006\n",
            "  cyipopt            conda-forge/linux-64::cyipopt-1.1.0-py37h4f1d67c_1\n",
            "  future             conda-forge/linux-64::future-0.18.2-py37h89c1867_5\n",
            "  ipopt              conda-forge/linux-64::ipopt-3.14.6-h630875f_0\n",
            "  libblas            conda-forge/linux-64::libblas-3.9.0-14_linux64_openblas\n",
            "  libcblas           conda-forge/linux-64::libcblas-3.9.0-14_linux64_openblas\n",
            "  libgfortran-ng     conda-forge/linux-64::libgfortran-ng-11.2.0-h69a702a_16\n",
            "  libgfortran5       conda-forge/linux-64::libgfortran5-11.2.0-h5c6108e_16\n",
            "  liblapack          conda-forge/linux-64::liblapack-3.9.0-14_linux64_openblas\n",
            "  libopenblas        conda-forge/linux-64::libopenblas-0.3.20-pthreads_h78a6416_0\n",
            "  metis              conda-forge/linux-64::metis-5.1.0-h58526e2_1006\n",
            "  mumps-include      conda-forge/linux-64::mumps-include-5.2.1-ha770c72_11\n",
            "  mumps-seq          conda-forge/linux-64::mumps-seq-5.2.1-h2104b81_11\n",
            "  numpy              conda-forge/linux-64::numpy-1.21.6-py37h976b520_0\n",
            "  scotch             conda-forge/linux-64::scotch-6.0.9-h3858553_1\n",
            "  unixodbc           conda-forge/linux-64::unixodbc-2.3.10-h583eb01_0\n",
            "\n",
            "The following packages will be UPDATED:\n",
            "\n",
            "  ca-certificates                      2020.12.5-ha878542_0 --> 2021.10.8-ha878542_0\n",
            "  certifi                          2020.12.5-py37h89c1867_1 --> 2021.10.8-py37h89c1867_2\n",
            "  conda                                4.9.2-py37h89c1867_0 --> 4.12.0-py37h89c1867_0\n",
            "  libgcc-ng                               9.3.0-h2828fa1_18 --> 11.2.0-h1d223b6_16\n",
            "  libgomp                                 9.3.0-h2828fa1_18 --> 11.2.0-h1d223b6_16\n",
            "  libstdcxx-ng                            9.3.0-h6de172a_18 --> 11.2.0-he4da1e4_16\n",
            "  openssl                                 1.1.1j-h7f98852_0 --> 1.1.1o-h166bdaf_0\n",
            "  python_abi                                    3.7-1_cp37m --> 3.7-2_cp37m\n",
            "\n",
            "\n",
            "\n",
            "Downloading and Extracting Packages\n",
            "certifi-2021.10.8    | 145 KB    | : 100% 1.0/1 [00:00<00:00,  8.67it/s]\n",
            "libblas-3.9.0        | 12 KB     | : 100% 1.0/1 [00:00<00:00, 23.58it/s]\n",
            "conda-4.12.0         | 1.0 MB    | : 100% 1.0/1 [00:00<00:00,  3.17it/s]\n",
            "libstdcxx-ng-11.2.0  | 4.2 MB    | : 100% 1.0/1 [00:00<00:00,  1.28it/s]\n",
            "libopenblas-0.3.20   | 10.1 MB   | : 100% 1.0/1 [00:02<00:00,  2.04s/it]\n",
            "libgfortran-ng-11.2. | 23 KB     | : 100% 1.0/1 [00:00<00:00, 14.83it/s]\n",
            "numpy-1.21.6         | 6.1 MB    | : 100% 1.0/1 [00:01<00:00,  1.47s/it]\n",
            "python_abi-3.7       | 4 KB      | : 100% 1.0/1 [00:00<00:00, 26.74it/s]\n",
            "metis-5.1.0          | 4.1 MB    | : 100% 1.0/1 [00:00<00:00,  1.23it/s]\n",
            "scotch-6.0.9         | 1.3 MB    | : 100% 1.0/1 [00:00<00:00,  3.05it/s]\n",
            "mumps-include-5.2.1  | 23 KB     | : 100% 1.0/1 [00:00<00:00, 22.49it/s]\n",
            "openssl-1.1.1o       | 2.1 MB    | : 100% 1.0/1 [00:00<00:00,  2.34it/s]\n",
            "liblapack-3.9.0      | 12 KB     | : 100% 1.0/1 [00:00<00:00, 18.54it/s]\n",
            "cyipopt-1.1.0        | 144 KB    | : 100% 1.0/1 [00:00<00:00, 14.40it/s]\n",
            "libgfortran5-11.2.0  | 1.7 MB    | : 100% 1.0/1 [00:00<00:00,  2.51it/s]\n",
            "mumps-seq-5.2.1      | 3.3 MB    | : 100% 1.0/1 [00:00<00:00,  1.52it/s]\n",
            "ampl-mp-3.1.0        | 1.1 MB    | : 100% 1.0/1 [00:00<00:00,  3.75it/s]\n",
            "unixodbc-2.3.10      | 296 KB    | : 100% 1.0/1 [00:00<00:00, 10.33it/s]\n",
            "libcblas-3.9.0       | 12 KB     | : 100% 1.0/1 [00:00<00:00, 28.67it/s]\n",
            "libgomp-11.2.0       | 428 KB    | : 100% 1.0/1 [00:00<00:00,  8.60it/s]\n",
            "libgcc-ng-11.2.0     | 902 KB    | : 100% 1.0/1 [00:00<00:00,  4.86it/s]\n",
            "ca-certificates-2021 | 139 KB    | : 100% 1.0/1 [00:00<00:00, 16.39it/s]\n",
            "future-0.18.2        | 713 KB    | : 100% 1.0/1 [00:00<00:00,  3.90it/s]\n",
            "ipopt-3.14.6         | 1.1 MB    | : 100% 1.0/1 [00:00<00:00,  3.19it/s]\n",
            "Preparing transaction: - \b\b\\ \b\bdone\n",
            "Verifying transaction: / \b\b- \b\b\\ \b\b| \b\bdone\n",
            "Executing transaction: - \b\b\\ \b\b| \b\b/ \b\bdone\n",
            "Collecting jax[cpu]\n",
            "  Downloading jax-0.3.10.tar.gz (939 kB)\n",
            "\u001b[K     |████████████████████████████████| 939 kB 9.8 MB/s \n",
            "\u001b[?25hCollecting casadi\n",
            "  Downloading casadi-3.5.5-cp37-none-manylinux1_x86_64.whl (34.2 MB)\n",
            "\u001b[K     |████████████████████████████████| 34.2 MB 104 kB/s \n",
            "\u001b[?25hCollecting pyarrow\n",
            "  Downloading pyarrow-8.0.0-cp37-cp37m-manylinux_2_17_x86_64.manylinux2014_x86_64.whl (29.3 MB)\n",
            "\u001b[K     |████████████████████████████████| 29.3 MB 1.3 MB/s \n",
            "\u001b[?25hCollecting pandas\n",
            "  Downloading pandas-1.3.5-cp37-cp37m-manylinux_2_17_x86_64.manylinux2014_x86_64.whl (11.3 MB)\n",
            "\u001b[K     |████████████████████████████████| 11.3 MB 45.3 MB/s \n",
            "\u001b[?25hCollecting absl-py\n",
            "  Downloading absl_py-1.0.0-py3-none-any.whl (126 kB)\n",
            "\u001b[K     |████████████████████████████████| 126 kB 55.0 MB/s \n",
            "\u001b[?25hRequirement already satisfied: numpy>=1.19 in /usr/local/lib/python3.7/site-packages (from jax[cpu]) (1.21.6)\n",
            "Collecting opt_einsum\n",
            "  Downloading opt_einsum-3.3.0-py3-none-any.whl (65 kB)\n",
            "\u001b[K     |████████████████████████████████| 65 kB 4.2 MB/s \n",
            "\u001b[?25hCollecting scipy>=1.2.1\n",
            "  Downloading scipy-1.7.3-cp37-cp37m-manylinux_2_12_x86_64.manylinux2010_x86_64.whl (38.1 MB)\n",
            "\u001b[K     |████████████████████████████████| 38.1 MB 1.2 MB/s \n",
            "\u001b[?25hCollecting typing_extensions\n",
            "  Downloading typing_extensions-4.2.0-py3-none-any.whl (24 kB)\n",
            "Collecting jaxlib==0.3.10\n",
            "  Downloading jaxlib-0.3.10-cp37-none-manylinux2014_x86_64.whl (69.0 MB)\n",
            "\u001b[K     |████████████████████████████████| 69.0 MB 97 kB/s \n",
            "\u001b[?25hCollecting flatbuffers<3.0,>=1.12\n",
            "  Downloading flatbuffers-2.0-py2.py3-none-any.whl (26 kB)\n",
            "Collecting pytz>=2017.3\n",
            "  Downloading pytz-2022.1-py2.py3-none-any.whl (503 kB)\n",
            "\u001b[K     |████████████████████████████████| 503 kB 65.7 MB/s \n",
            "\u001b[?25hCollecting python-dateutil>=2.7.3\n",
            "  Downloading python_dateutil-2.8.2-py2.py3-none-any.whl (247 kB)\n",
            "\u001b[K     |████████████████████████████████| 247 kB 65.0 MB/s \n",
            "\u001b[?25hRequirement already satisfied: six>=1.5 in /usr/local/lib/python3.7/site-packages (from python-dateutil>=2.7.3->pandas) (1.15.0)\n",
            "Building wheels for collected packages: jax\n",
            "  Building wheel for jax (setup.py) ... \u001b[?25l\u001b[?25hdone\n",
            "  Created wheel for jax: filename=jax-0.3.10-py3-none-any.whl size=1088071 sha256=4a44c60ec204f3f38ca164637f4a03b1d6f666a302627851b1972c3b1ac31410\n",
            "  Stored in directory: /root/.cache/pip/wheels/1c/05/23/36730377cd7311156f1e5eb5e7c683d5cdac1654658c095cc5\n",
            "Successfully built jax\n",
            "Installing collected packages: typing-extensions, scipy, opt-einsum, flatbuffers, absl-py, pytz, python-dateutil, jaxlib, jax, pyarrow, pandas, casadi\n",
            "Successfully installed absl-py-1.0.0 casadi-3.5.5 flatbuffers-2.0 jax-0.3.10 jaxlib-0.3.10 opt-einsum-3.3.0 pandas-1.3.5 pyarrow-8.0.0 python-dateutil-2.8.2 pytz-2022.1 scipy-1.7.3 typing-extensions-4.2.0\n"
          ]
        },
        {
          "output_type": "display_data",
          "data": {
            "application/vnd.colab-display-data+json": {
              "pip_warning": {
                "packages": [
                  "dateutil"
                ]
              }
            }
          },
          "metadata": {}
        },
        {
          "output_type": "stream",
          "name": "stdout",
          "text": [
            "Collecting numagic-lumos==0.0.2rc3\n",
            "  Downloading numagic_lumos-0.0.2rc3-py3-none-any.whl (105 kB)\n",
            "\u001b[K     |████████████████████████████████| 105 kB 8.3 MB/s \n",
            "\u001b[?25hInstalling collected packages: numagic-lumos\n",
            "Successfully installed numagic-lumos-0.0.2rc3\n"
          ]
        }
      ],
      "source": [
        "# We could set up the dependencies using enviornment.yml\n",
        "# !git clone https://github.com/numagic/lumos\n",
        "# %cd /content/lumos\n",
        "# !git checkout dev\n",
        "# !conda env update -n base -f environment.yml\n",
        "\n",
        "# Or... we could direclty install them so we don't need to clone the repo\n",
        "# TODO: make dependency automatic -> this would require conda as there are\n",
        "# non-python dependencies\n",
        "!conda install -c conda-forge cyipopt\n",
        "!pip install jax[cpu] casadi pyarrow pandas\n",
        "!pip install numagic-lumos==0.0.2rc3"
      ]
    },
    {
      "cell_type": "markdown",
      "metadata": {
        "id": "QiYXcrNuV5jt"
      },
      "source": [
        "# Run Brachistochrone example with automatic differentiation\n",
        "\n",
        "Note that unfortunately colab does not show the stdout printed to the terminal, therefore the user must use the command tabs: 'Runtime' -> 'View runtime logs' to see the stdout outputs, such as those from IPOPT."
      ]
    },
    {
      "cell_type": "code",
      "execution_count": 4,
      "metadata": {
        "colab": {
          "base_uri": "https://localhost:8080/"
        },
        "id": "WVrfw3Ir0gwL",
        "outputId": "b330a2f2-9718-4098-f742-067371106019"
      },
      "outputs": [
        {
          "output_type": "stream",
          "name": "stderr",
          "text": [
            "INFO:absl:Unable to initialize backend 'tpu_driver': NOT_FOUND: Unable to find driver in registry given worker: \n",
            "INFO:absl:Unable to initialize backend 'gpu': NOT_FOUND: Could not find registered platform with name: \"cuda\". Available platform names are: Host Interpreter\n",
            "INFO:absl:Unable to initialize backend 'tpu': INVALID_ARGUMENT: TpuPlatform is not available.\n",
            "WARNING:absl:No GPU/TPU found, falling back to CPU. (Set TF_CPP_MIN_LOG_LEVEL=0 and rerun for more info.)\n",
            "INFO:lumos.optimal_control.nlp:model_algebra.constraints: 0.234782\n",
            "INFO:lumos.optimal_control.nlp:model_algebra.jacobian: 0.258772\n",
            "INFO:lumos.optimal_control.nlp:model_algebra.hessian: 0.212446\n",
            "INFO:lumos.optimal_control.nlp:continuity.constraints: 0.002089\n",
            "INFO:lumos.optimal_control.nlp:continuity.jacobian: 0.001908\n",
            "INFO:lumos.optimal_control.nlp:continuity.hessian: 0.001541\n",
            "INFO:lumos.optimal_control.scaled_mesh_ocp:Triggering jax JIT completed\n",
            "INFO:lumos.optimal_control.scaled_mesh_ocp:Time NLP execution\n",
            "INFO:lumos.optimal_control.nlp:time.objective: 0.000227\n",
            "INFO:lumos.optimal_control.nlp:time.gradient: 0.000145\n",
            "INFO:lumos.optimal_control.nlp:time.hessian: 0.000003\n",
            "INFO:lumos.optimal_control.nlp:model_algebra.constraints: 0.000451\n",
            "INFO:lumos.optimal_control.nlp:model_algebra.jacobian: 0.001030\n",
            "INFO:lumos.optimal_control.nlp:model_algebra.hessian: 0.000584\n",
            "INFO:lumos.optimal_control.nlp:continuity.constraints: 0.001246\n",
            "INFO:lumos.optimal_control.nlp:continuity.jacobian: 0.001337\n",
            "INFO:lumos.optimal_control.nlp:continuity.hessian: 0.000684\n",
            "INFO:root:minimum height -0.650\n",
            "INFO:root:final time 0.566\n"
          ]
        }
      ],
      "source": [
        "import logging\n",
        "import sys\n",
        "import numpy as np\n",
        "\n",
        "from typing import Any, Dict\n",
        "\n",
        "import lumos.numpy as lnp\n",
        "from lumos.models.base import StateSpaceModel, StateSpaceModelReturn, state_space_io\n",
        "from lumos.optimal_control.scaled_mesh_ocp import ScaledMeshOCP\n",
        "from lumos.optimal_control.config import (\n",
        "    BoundaryConditionConfig,\n",
        "    BoundConfig,\n",
        "    BoundConfig,\n",
        ")\n",
        "\n",
        "@state_space_io(states=(\"v\", \"x\", \"y\"), inputs=(\"theta\",), outputs=(\"theta\",))\n",
        "class Brachistochrone(StateSpaceModel):\n",
        "    \"\"\"The Brachistochrone model formulatd in the time domain\"\"\"\n",
        "\n",
        "    def forward(\n",
        "        self,\n",
        "        states: lnp.ndarray,\n",
        "        inputs: lnp.ndarray,\n",
        "        mesh: float = 0.0,  # time invariant model\n",
        "    ) -> StateSpaceModelReturn:\n",
        "        params = self._params\n",
        "        theta = self.get_input(inputs, \"theta\")\n",
        "        v = self.get_state(states, \"v\")\n",
        "        v_dot = -params[\"gravity\"] * lnp.sin(theta)\n",
        "\n",
        "        dx_dt = lnp.cos(theta) * v\n",
        "        dy_dt = lnp.sin(theta) * v\n",
        "\n",
        "        # Assemble result\n",
        "        states_dot = self.make_vector(\n",
        "            group=\"states_dot\", v_dot=v_dot, x_dot=dx_dt, y_dot=dy_dt,\n",
        "        )\n",
        "        outputs = self.make_vector(group=\"outputs\", theta=theta)\n",
        "        return self.make_state_space_model_return(\n",
        "            states_dot=states_dot, outputs=outputs\n",
        "        )\n",
        "\n",
        "    @classmethod\n",
        "    def get_default_params(self) -> Dict[str, Any]:\n",
        "        return {\"gravity\": 9.81}\n",
        "\n",
        "def solve_with_ad(dx, dy, backend):\n",
        "    model = Brachistochrone()\n",
        "    sim_config = ScaledMeshOCP.get_sim_config(\n",
        "        boundary_conditions=(\n",
        "            BoundaryConditionConfig(0, \"states\", \"x\", 0.0),\n",
        "            BoundaryConditionConfig(0, \"states\", \"y\", 0.0),\n",
        "            BoundaryConditionConfig(0, \"states\", \"v\", 0.0),\n",
        "            BoundaryConditionConfig(-1, \"states\", \"x\", dx),\n",
        "            BoundaryConditionConfig(-1, \"states\", \"y\", dy),\n",
        "        ),\n",
        "        bounds=(\n",
        "            BoundConfig(\"global\", \"mesh_scale\", (0.01, 10.0)),\n",
        "            BoundConfig(\"inputs\", \"theta\", (-np.pi / 2, np.pi / 2)),\n",
        "        ),\n",
        "        num_intervals=49,\n",
        "        hessian_approximation=\"exact\",\n",
        "        backend=backend,\n",
        "        # transcription=\"LGR\",\n",
        "        # is_condensed=False,\n",
        "    )\n",
        "    ocp = ScaledMeshOCP(model=model, sim_config=sim_config)\n",
        "    # Very casual initial guess -- just all zeros.\n",
        "    x0 = np.zeros(ocp.num_dec)\n",
        "    solution, info = ocp.solve(\n",
        "        x0,\n",
        "        max_iter=200,\n",
        "        print_level=1,\n",
        "        print_timing_statistics=\"no\",\n",
        "        derivative_test=\"none\",\n",
        "    )\n",
        "    vars = ocp.dec_var_operator.unflatten_var(solution)\n",
        "    op = ocp.dec_var_operator\n",
        "    final_t = ocp.objective(solution)\n",
        "    y = vars.states[:, op.get_var_index_in_group(\"states\", \"y\")]\n",
        "    min_y = np.min(y)\n",
        "    logger.info(f\"minimum height {min_y:.3f}\")\n",
        "    logger.info(f\"final time {final_t:.3f}\")    \n",
        "\n",
        "logger = logging.getLogger()\n",
        "logger.setLevel(logging.INFO)\n",
        "solve_with_ad(1.0, -0.65, backend=\"jax\")"
      ]
    },
    {
      "cell_type": "code",
      "source": [
        ""
      ],
      "metadata": {
        "id": "31hN3AsE8pSi"
      },
      "execution_count": null,
      "outputs": []
    }
  ],
  "metadata": {
    "colab": {
      "collapsed_sections": [],
      "name": "Brachistochrone",
      "provenance": [],
      "toc_visible": true,
      "include_colab_link": true
    },
    "kernelspec": {
      "display_name": "Python 3",
      "name": "python3"
    }
  },
  "nbformat": 4,
  "nbformat_minor": 0
}
