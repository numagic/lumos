{
  "cells": [
    {
      "cell_type": "markdown",
      "metadata": {
        "id": "view-in-github",
        "colab_type": "text"
      },
      "source": [
        "<a href=\"https://colab.research.google.com/github/numagic/lumos/blob/update_colab_example/Custom_Objective.ipynb\" target=\"_parent\"><img src=\"https://colab.research.google.com/assets/colab-badge.svg\" alt=\"Open In Colab\"/></a>"
      ]
    },
    {
      "cell_type": "markdown",
      "metadata": {
        "id": "RwyQYIZbVKFh"
      },
      "source": [
        "# Introduction\n",
        "In this example, we'll show one can create custom objective functions using automatic differentiation.\n",
        "\n",
        "Usually it is recommended to use lumos with the docker image it provides. But we can also run `lumos` with conda environment.\n",
        "\n",
        "Google Colab provides free GPU and TPU VMs that one could use with jupyter notebook style UI, and this is what we're going to use.\n",
        "\n",
        "To set up the environment, we'll:\n",
        "1) install conda on google colab using `condacolab`\n",
        "2) clone the `lumos` git repo, and setup the conda environment (this will be replaced by pip install in the future)\n",
        "3) run the exmaples"
      ]
    },
    {
      "cell_type": "markdown",
      "metadata": {
        "id": "DBzkeuwE5oUV"
      },
      "source": [
        "# Install Conda on Google Colab\n",
        "\n",
        "<!-- By Jaime Rodríguez-Guerra <@jaimergp>. Last modified 2021.08.04 -->\n",
        "\n",
        "`condacolab` simplifies the setup as much as possible, but there are some gotchas.\n",
        "\n",
        "**⚠️ Read this before continuing!**\n",
        "\n",
        "* The `condacolab` commands need to be run the first Code cell!\n",
        "* Once you run `condacolab.install()`, the Python kernel will be restarted. This is **normal and expected**. After that, you can continue running the cells below like normal.\n",
        "* Do not use the `Run all` option. Run the `condacolab` cell _individually_ and wait for the kernel to restart. **Only then**, you can run all cells if you want.\n",
        "* You can only use the `base` environment. Do not try to create new ones; instead update `base` with either:\n",
        "  * `conda install <packages>`\n",
        "  * `conda env update -n base -f environment.yml`\n",
        "* If you want to use GPUs, make sure you are using such an instance before starting!\n",
        "* If you get an error, please raise an issue [here](https://github.com/jaimergp/condacolab/issues)."
      ]
    },
    {
      "cell_type": "code",
      "execution_count": 1,
      "metadata": {
        "colab": {
          "base_uri": "https://localhost:8080/"
        },
        "id": "LAZ11nESX6qt",
        "outputId": "3aa3fae3-3446-4276-e902-cc41934cc12d"
      },
      "outputs": [
        {
          "output_type": "stream",
          "name": "stdout",
          "text": [
            "⏬ Downloading https://github.com/jaimergp/miniforge/releases/latest/download/Mambaforge-colab-Linux-x86_64.sh...\n",
            "📦 Installing...\n",
            "📌 Adjusting configuration...\n",
            "🩹 Patching environment...\n",
            "⏲ Done in 0:01:04\n",
            "🔁 Restarting kernel...\n"
          ]
        }
      ],
      "source": [
        "!pip install -q condacolab\n",
        "import condacolab\n",
        "condacolab.install()"
      ]
    },
    {
      "cell_type": "code",
      "execution_count": null,
      "metadata": {
        "colab": {
          "base_uri": "https://localhost:8080/"
        },
        "id": "wRDyL3hPYAOx",
        "outputId": "7d808b57-82c9-484d-d79f-0277513a088c"
      },
      "outputs": [
        {
          "output_type": "stream",
          "name": "stdout",
          "text": [
            "✨🍰✨ Everything looks OK!\n"
          ]
        }
      ],
      "source": [
        "import condacolab\n",
        "condacolab.check()"
      ]
    },
    {
      "cell_type": "code",
      "execution_count": 1,
      "metadata": {
        "colab": {
          "base_uri": "https://localhost:8080/",
          "height": 1000
        },
        "id": "KbliymBeS_Nf",
        "outputId": "33a9d7ee-9b48-4854-872d-654662628bfe"
      },
      "outputs": [
        {
          "output_type": "stream",
          "name": "stdout",
          "text": [
            "Collecting package metadata (current_repodata.json): - \b\b\\ \b\b| \b\b/ \b\b- \b\b\\ \b\b| \b\b/ \b\b- \b\b\\ \b\b| \b\b/ \b\b- \b\b\\ \b\b| \b\b/ \b\b- \b\b\\ \b\b| \b\b/ \b\b- \b\b\\ \b\b| \b\b/ \b\b- \b\b\\ \b\b| \b\b/ \b\b- \b\b\\ \b\b| \b\b/ \b\b- \b\b\\ \b\b| \b\b/ \b\b- \b\b\\ \b\b| \b\b/ \b\b- \b\b\\ \b\b| \b\b/ \b\b- \b\b\\ \b\b| \b\b/ \b\b- \b\b\\ \b\b| \b\b/ \b\b- \b\b\\ \b\b| \b\b/ \b\b- \b\b\\ \b\b| \b\b/ \b\b- \b\b\\ \b\b| \b\b/ \b\b- \b\b\\ \b\b| \b\b/ \b\b- \b\b\\ \b\b| \b\b/ \b\b- \b\b\\ \b\b| \b\b/ \b\b- \b\b\\ \b\b| \b\b/ \b\b- \b\b\\ \b\b| \b\b/ \b\b- \b\b\\ \b\b| \b\b/ \b\b- \b\b\\ \b\b| \b\b/ \b\b- \b\b\\ \b\b| \b\b/ \b\b- \b\b\\ \b\b| \b\b/ \b\b- \b\b\\ \b\b| \b\bdone\n",
            "Solving environment: - \b\b\\ \b\b| \b\b/ \b\b- \b\b\\ \b\b| \b\b/ \b\b- \b\b\\ \b\b| \b\b/ \b\b- \b\b\\ \b\b| \b\b/ \b\b- \b\b\\ \b\b| \b\b/ \b\b- \b\b\\ \b\b| \b\b/ \b\b- \b\b\\ \b\b| \b\b/ \b\b- \b\b\\ \b\b| \b\b/ \b\b- \b\b\\ \b\b| \b\b/ \b\b- \b\b\\ \b\b| \b\b/ \b\b- \b\b\\ \b\b| \b\b/ \b\b- \b\b\\ \b\b| \b\b/ \b\b- \b\b\\ \b\b| \b\b/ \b\b- \b\b\\ \b\b| \b\b/ \b\b- \b\b\\ \b\b| \b\b/ \b\b- \b\b\\ \b\b| \b\b/ \b\b- \b\b\\ \b\bdone\n",
            "\n",
            "## Package Plan ##\n",
            "\n",
            "  environment location: /usr/local\n",
            "\n",
            "  added / updated specs:\n",
            "    - cyipopt\n",
            "\n",
            "\n",
            "The following packages will be downloaded:\n",
            "\n",
            "    package                    |            build\n",
            "    ---------------------------|-----------------\n",
            "    ampl-mp-3.1.0              |    h2cc385e_1006         1.1 MB  conda-forge\n",
            "    ca-certificates-2022.6.15  |       ha878542_0         149 KB  conda-forge\n",
            "    certifi-2022.6.15          |   py37h89c1867_0         155 KB  conda-forge\n",
            "    conda-4.14.0               |   py37h89c1867_0        1010 KB  conda-forge\n",
            "    cyipopt-1.1.0              |   py37hb2fd402_3         135 KB  conda-forge\n",
            "    future-0.18.2              |   py37h89c1867_5         713 KB  conda-forge\n",
            "    ipopt-3.14.8               |       hc8a599a_0         1.1 MB  conda-forge\n",
            "    libblas-3.9.0              |16_linux64_openblas          13 KB  conda-forge\n",
            "    libcblas-3.9.0             |16_linux64_openblas          13 KB  conda-forge\n",
            "    libgcc-ng-12.1.0           |      h8d9b700_16         940 KB  conda-forge\n",
            "    libgfortran-ng-12.1.0      |      h69a702a_16          23 KB  conda-forge\n",
            "    libgfortran5-12.1.0        |      hdcd56e2_16         1.8 MB  conda-forge\n",
            "    libgomp-12.1.0             |      h8d9b700_16         459 KB  conda-forge\n",
            "    liblapack-3.9.0            |16_linux64_openblas          13 KB  conda-forge\n",
            "    libopenblas-0.3.21         |pthreads_h78a6416_2        10.1 MB  conda-forge\n",
            "    libstdcxx-ng-12.1.0        |      ha89aaad_16         4.3 MB  conda-forge\n",
            "    metis-5.1.0                |    h58526e2_1006         4.1 MB  conda-forge\n",
            "    mumps-include-5.2.1        |      ha770c72_11          23 KB  conda-forge\n",
            "    mumps-seq-5.2.1            |      h2104b81_11         3.3 MB  conda-forge\n",
            "    numpy-1.21.6               |   py37h976b520_0         6.1 MB  conda-forge\n",
            "    openssl-1.1.1q             |       h166bdaf_0         2.1 MB  conda-forge\n",
            "    python_abi-3.7             |          2_cp37m           4 KB  conda-forge\n",
            "    scotch-6.0.9               |       h3858553_1         1.3 MB  conda-forge\n",
            "    toolz-0.12.0               |     pyhd8ed1ab_0          48 KB  conda-forge\n",
            "    unixodbc-2.3.10            |       h583eb01_0         296 KB  conda-forge\n",
            "    ------------------------------------------------------------\n",
            "                                           Total:        39.1 MB\n",
            "\n",
            "The following NEW packages will be INSTALLED:\n",
            "\n",
            "  ampl-mp            conda-forge/linux-64::ampl-mp-3.1.0-h2cc385e_1006\n",
            "  cyipopt            conda-forge/linux-64::cyipopt-1.1.0-py37hb2fd402_3\n",
            "  future             conda-forge/linux-64::future-0.18.2-py37h89c1867_5\n",
            "  ipopt              conda-forge/linux-64::ipopt-3.14.8-hc8a599a_0\n",
            "  libblas            conda-forge/linux-64::libblas-3.9.0-16_linux64_openblas\n",
            "  libcblas           conda-forge/linux-64::libcblas-3.9.0-16_linux64_openblas\n",
            "  libgfortran-ng     conda-forge/linux-64::libgfortran-ng-12.1.0-h69a702a_16\n",
            "  libgfortran5       conda-forge/linux-64::libgfortran5-12.1.0-hdcd56e2_16\n",
            "  liblapack          conda-forge/linux-64::liblapack-3.9.0-16_linux64_openblas\n",
            "  libopenblas        conda-forge/linux-64::libopenblas-0.3.21-pthreads_h78a6416_2\n",
            "  metis              conda-forge/linux-64::metis-5.1.0-h58526e2_1006\n",
            "  mumps-include      conda-forge/linux-64::mumps-include-5.2.1-ha770c72_11\n",
            "  mumps-seq          conda-forge/linux-64::mumps-seq-5.2.1-h2104b81_11\n",
            "  numpy              conda-forge/linux-64::numpy-1.21.6-py37h976b520_0\n",
            "  scotch             conda-forge/linux-64::scotch-6.0.9-h3858553_1\n",
            "  toolz              conda-forge/noarch::toolz-0.12.0-pyhd8ed1ab_0\n",
            "  unixodbc           conda-forge/linux-64::unixodbc-2.3.10-h583eb01_0\n",
            "\n",
            "The following packages will be UPDATED:\n",
            "\n",
            "  ca-certificates                      2020.12.5-ha878542_0 --> 2022.6.15-ha878542_0\n",
            "  certifi                          2020.12.5-py37h89c1867_1 --> 2022.6.15-py37h89c1867_0\n",
            "  conda                                4.9.2-py37h89c1867_0 --> 4.14.0-py37h89c1867_0\n",
            "  libgcc-ng                               9.3.0-h2828fa1_18 --> 12.1.0-h8d9b700_16\n",
            "  libgomp                                 9.3.0-h2828fa1_18 --> 12.1.0-h8d9b700_16\n",
            "  libstdcxx-ng                            9.3.0-h6de172a_18 --> 12.1.0-ha89aaad_16\n",
            "  openssl                                 1.1.1j-h7f98852_0 --> 1.1.1q-h166bdaf_0\n",
            "  python_abi                                    3.7-1_cp37m --> 3.7-2_cp37m\n",
            "\n",
            "\n",
            "\n",
            "Downloading and Extracting Packages\n",
            "cyipopt-1.1.0        | 135 KB    | : 100% 1.0/1 [00:00<00:00, 10.52it/s]\n",
            "libgcc-ng-12.1.0     | 940 KB    | : 100% 1.0/1 [00:00<00:00,  4.98it/s]\n",
            "mumps-include-5.2.1  | 23 KB     | : 100% 1.0/1 [00:00<00:00, 26.99it/s]\n",
            "metis-5.1.0          | 4.1 MB    | : 100% 1.0/1 [00:00<00:00,  1.07it/s]\n",
            "libgfortran-ng-12.1. | 23 KB     | : 100% 1.0/1 [00:00<00:00, 28.19it/s]\n",
            "numpy-1.21.6         | 6.1 MB    | : 100% 1.0/1 [00:01<00:00,  1.68s/it]\n",
            "libgomp-12.1.0       | 459 KB    | : 100% 1.0/1 [00:00<00:00,  8.71it/s]\n",
            "unixodbc-2.3.10      | 296 KB    | : 100% 1.0/1 [00:00<00:00,  9.13it/s]\n",
            "toolz-0.12.0         | 48 KB     | : 100% 1.0/1 [00:00<00:00, 23.02it/s]\n",
            "future-0.18.2        | 713 KB    | : 100% 1.0/1 [00:00<00:00,  3.73it/s]\n",
            "conda-4.14.0         | 1010 KB   | : 100% 1.0/1 [00:00<00:00,  3.00it/s]\n",
            "openssl-1.1.1q       | 2.1 MB    | : 100% 1.0/1 [00:00<00:00,  2.22it/s]\n",
            "ipopt-3.14.8         | 1.1 MB    | : 100% 1.0/1 [00:00<00:00,  2.53it/s]\n",
            "libopenblas-0.3.21   | 10.1 MB   | : 100% 1.0/1 [00:02<00:00,  2.57s/it]               \n",
            "libcblas-3.9.0       | 13 KB     | : 100% 1.0/1 [00:00<00:00, 28.89it/s]\n",
            "ca-certificates-2022 | 149 KB    | : 100% 1.0/1 [00:00<00:00, 13.93it/s]\n",
            "certifi-2022.6.15    | 155 KB    | : 100% 1.0/1 [00:00<00:00, 19.90it/s]\n",
            "ampl-mp-3.1.0        | 1.1 MB    | : 100% 1.0/1 [00:00<00:00,  3.63it/s]\n",
            "libgfortran5-12.1.0  | 1.8 MB    | : 100% 1.0/1 [00:00<00:00,  2.42it/s]\n",
            "libblas-3.9.0        | 13 KB     | : 100% 1.0/1 [00:00<00:00, 27.45it/s]\n",
            "libstdcxx-ng-12.1.0  | 4.3 MB    | : 100% 1.0/1 [00:00<00:00,  1.20it/s]\n",
            "liblapack-3.9.0      | 13 KB     | : 100% 1.0/1 [00:00<00:00, 25.67it/s]\n",
            "scotch-6.0.9         | 1.3 MB    | : 100% 1.0/1 [00:00<00:00,  3.05it/s]\n",
            "python_abi-3.7       | 4 KB      | : 100% 1.0/1 [00:00<00:00, 34.97it/s]\n",
            "mumps-seq-5.2.1      | 3.3 MB    | : 100% 1.0/1 [00:00<00:00,  1.46it/s]\n",
            "Preparing transaction: / \b\b- \b\bdone\n",
            "Verifying transaction: | \b\b/ \b\b- \b\b\\ \b\bdone\n",
            "Executing transaction: / \b\b- \b\b\\ \b\b| \b\b/ \b\b- \b\b\\ \b\b| \b\b/ \b\bdone\n",
            "Looking in indexes: https://pypi.org/simple, https://us-python.pkg.dev/colab-wheels/public/simple/\n",
            "Collecting jax[cpu]\n",
            "  Downloading jax-0.3.16.tar.gz (1.0 MB)\n",
            "\u001b[K     |████████████████████████████████| 1.0 MB 4.3 MB/s \n",
            "\u001b[?25hCollecting casadi\n",
            "  Downloading casadi-3.5.5-cp37-none-manylinux1_x86_64.whl (34.2 MB)\n",
            "\u001b[K     |████████████████████████████████| 34.2 MB 105 kB/s \n",
            "\u001b[?25hCollecting pyarrow\n",
            "  Downloading pyarrow-9.0.0-cp37-cp37m-manylinux_2_17_x86_64.manylinux2014_x86_64.whl (35.3 MB)\n",
            "\u001b[K     |████████████████████████████████| 35.3 MB 252 kB/s \n",
            "\u001b[?25hCollecting pandas\n",
            "  Downloading pandas-1.3.5-cp37-cp37m-manylinux_2_17_x86_64.manylinux2014_x86_64.whl (11.3 MB)\n",
            "\u001b[K     |████████████████████████████████| 11.3 MB 39.0 MB/s \n",
            "\u001b[?25hCollecting matplotlib\n",
            "  Downloading matplotlib-3.5.3-cp37-cp37m-manylinux_2_5_x86_64.manylinux1_x86_64.whl (11.2 MB)\n",
            "\u001b[K     |████████████████████████████████| 11.2 MB 42.1 MB/s \n",
            "\u001b[?25hCollecting absl-py\n",
            "  Downloading absl_py-1.2.0-py3-none-any.whl (123 kB)\n",
            "\u001b[K     |████████████████████████████████| 123 kB 57.7 MB/s \n",
            "\u001b[?25hRequirement already satisfied: numpy>=1.20 in /usr/local/lib/python3.7/site-packages (from jax[cpu]) (1.21.6)\n",
            "Collecting opt_einsum\n",
            "  Downloading opt_einsum-3.3.0-py3-none-any.whl (65 kB)\n",
            "\u001b[K     |████████████████████████████████| 65 kB 4.2 MB/s \n",
            "\u001b[?25hCollecting scipy>=1.5\n",
            "  Downloading scipy-1.7.3-cp37-cp37m-manylinux_2_12_x86_64.manylinux2010_x86_64.whl (38.1 MB)\n",
            "\u001b[K     |████████████████████████████████| 38.1 MB 1.1 MB/s \n",
            "\u001b[?25hCollecting typing_extensions\n",
            "  Downloading typing_extensions-4.3.0-py3-none-any.whl (25 kB)\n",
            "Collecting etils[epath]\n",
            "  Downloading etils-0.7.1-py3-none-any.whl (124 kB)\n",
            "\u001b[K     |████████████████████████████████| 124 kB 79.4 MB/s \n",
            "\u001b[?25hCollecting jaxlib==0.3.15\n",
            "  Downloading jaxlib-0.3.15-cp37-none-manylinux2014_x86_64.whl (72.0 MB)\n",
            "\u001b[K     |████████████████████████████████| 72.0 MB 109 kB/s \n",
            "\u001b[?25hCollecting packaging>=20.0\n",
            "  Downloading packaging-21.3-py3-none-any.whl (40 kB)\n",
            "\u001b[K     |████████████████████████████████| 40 kB 6.4 MB/s \n",
            "\u001b[?25hCollecting kiwisolver>=1.0.1\n",
            "  Downloading kiwisolver-1.4.4-cp37-cp37m-manylinux_2_5_x86_64.manylinux1_x86_64.whl (1.1 MB)\n",
            "\u001b[K     |████████████████████████████████| 1.1 MB 61.4 MB/s \n",
            "\u001b[?25hCollecting fonttools>=4.22.0\n",
            "  Downloading fonttools-4.36.0-py3-none-any.whl (950 kB)\n",
            "\u001b[K     |████████████████████████████████| 950 kB 55.4 MB/s \n",
            "\u001b[?25hCollecting pyparsing>=2.2.1\n",
            "  Downloading pyparsing-3.0.9-py3-none-any.whl (98 kB)\n",
            "\u001b[K     |████████████████████████████████| 98 kB 8.4 MB/s \n",
            "\u001b[?25hCollecting python-dateutil>=2.7\n",
            "  Downloading python_dateutil-2.8.2-py2.py3-none-any.whl (247 kB)\n",
            "\u001b[K     |████████████████████████████████| 247 kB 53.9 MB/s \n",
            "\u001b[?25hCollecting cycler>=0.10\n",
            "  Downloading cycler-0.11.0-py3-none-any.whl (6.4 kB)\n",
            "Collecting pillow>=6.2.0\n",
            "  Downloading Pillow-9.2.0-cp37-cp37m-manylinux_2_17_x86_64.manylinux2014_x86_64.whl (3.1 MB)\n",
            "\u001b[K     |████████████████████████████████| 3.1 MB 48.9 MB/s \n",
            "\u001b[?25hRequirement already satisfied: six>=1.5 in /usr/local/lib/python3.7/site-packages (from python-dateutil>=2.7->matplotlib) (1.15.0)\n",
            "Collecting pytz>=2017.3\n",
            "  Downloading pytz-2022.2.1-py2.py3-none-any.whl (500 kB)\n",
            "\u001b[K     |████████████████████████████████| 500 kB 51.7 MB/s \n",
            "\u001b[?25hCollecting zipp\n",
            "  Downloading zipp-3.8.1-py3-none-any.whl (5.6 kB)\n",
            "Collecting importlib_resources\n",
            "  Downloading importlib_resources-5.9.0-py3-none-any.whl (33 kB)\n",
            "Building wheels for collected packages: jax\n",
            "  Building wheel for jax (setup.py) ... \u001b[?25l\u001b[?25hdone\n",
            "  Created wheel for jax: filename=jax-0.3.16-py3-none-any.whl size=1197700 sha256=e839c5f434fa936a7ec41531eb09e5f854e093f5f7456b4ac99529033f04ca18\n",
            "  Stored in directory: /root/.cache/pip/wheels/b9/0d/a2/2091279bf29b90a2211a271f6f006ef13a656211a9e69ba1e3\n",
            "Successfully built jax\n",
            "Installing collected packages: zipp, typing-extensions, etils, importlib-resources, scipy, pyparsing, opt-einsum, absl-py, pytz, python-dateutil, pillow, packaging, kiwisolver, jaxlib, jax, fonttools, cycler, pyarrow, pandas, matplotlib, casadi\n",
            "Successfully installed absl-py-1.2.0 casadi-3.5.5 cycler-0.11.0 etils-0.7.1 fonttools-4.36.0 importlib-resources-5.9.0 jax-0.3.16 jaxlib-0.3.15 kiwisolver-1.4.4 matplotlib-3.5.3 opt-einsum-3.3.0 packaging-21.3 pandas-1.3.5 pillow-9.2.0 pyarrow-9.0.0 pyparsing-3.0.9 python-dateutil-2.8.2 pytz-2022.2.1 scipy-1.7.3 typing-extensions-4.3.0 zipp-3.8.1\n"
          ]
        },
        {
          "output_type": "display_data",
          "data": {
            "application/vnd.colab-display-data+json": {
              "pip_warning": {
                "packages": [
                  "cycler",
                  "dateutil",
                  "kiwisolver"
                ]
              }
            }
          },
          "metadata": {}
        },
        {
          "output_type": "stream",
          "name": "stdout",
          "text": [
            "Looking in indexes: https://pypi.org/simple, https://us-python.pkg.dev/colab-wheels/public/simple/\n",
            "Collecting numagic-lumos==0.0.2rc5\n",
            "  Downloading numagic_lumos-0.0.2rc5-py3-none-any.whl (107 kB)\n",
            "\u001b[K     |████████████████████████████████| 107 kB 4.2 MB/s \n",
            "\u001b[?25hInstalling collected packages: numagic-lumos\n",
            "Successfully installed numagic-lumos-0.0.2rc5\n"
          ]
        }
      ],
      "source": [
        "# We could set up the dependencies using enviornment.yml\n",
        "# !git clone https://github.com/numagic/lumos\n",
        "# %cd /content/lumos\n",
        "# !git checkout dev\n",
        "# !conda env update -n base -f environment.yml\n",
        "\n",
        "# Or... we could direclty install them so we don't need to clone the repo\n",
        "# TODO: make dependency automatic -> this would require conda as there are\n",
        "# non-python dependencies\n",
        "!conda install -c conda-forge cyipopt\n",
        "!pip install jax[cpu] casadi pyarrow pandas matplotlib\n",
        "!pip install numagic-lumos==0.0.2rc5"
      ]
    },
    {
      "cell_type": "markdown",
      "source": [
        "# Automatic differentiation\n",
        "\n",
        "It is important to point out that:\n",
        "1) lumos does *NOT* have its own automatic differentiation framework, it merely leverages existing ones (from jax and casadi) for the model algebra\n",
        "2) for the objective function, the user is free to use any method they want, as long as it gives lumos the required ingredients needed eventually (we'll go into more detials of that later). \n",
        "\n",
        "Here we show a simple example of how to use jax to do the automatic differentiation. If you want, you can also use casadi, autograd, numba, etc, or even just finite difference."
      ],
      "metadata": {
        "id": "IWo5nulF5EY9"
      }
    },
    {
      "cell_type": "code",
      "source": [
        "import jax.numpy as jnp\n",
        "from jax import grad, hessian\n",
        "\n",
        "# Create a custom objective function with a small weight that it will change\n",
        "# the result, but still makes for a good solve.\n",
        "def new_obj_fn(x):\n",
        "    return jnp.sum(x**2)*1e-3\n",
        "\n",
        "# Use AD to get the gradient\n",
        "new_grad = grad(new_obj_fn)\n",
        "\n",
        "# Use AD to get the hessian\n",
        "new_hess = hessian(new_obj_fn)\n",
        "\n",
        "# lumos would want a 1d array of the non-sparse elements of the hessian, so we\n",
        "# defnite another function for that.\n",
        "flat_hess = lambda x: new_hess(x).flatten()\n",
        "\n",
        "# Now let's call the function we created.\n",
        "x = np.random.randn(5)\n",
        "\n",
        "print(f\"input: {x}\")\n",
        "print(f\"objective is: {new_obj_fn(x)}\")\n",
        "print(f\"gradient is: {new_grad(x)}\")\n",
        "print(f\"hessian is: {new_hess(x)}\")\n",
        "\n",
        "print(f\"flat hessian is: {flat_hess(x)}\")"
      ],
      "metadata": {
        "colab": {
          "base_uri": "https://localhost:8080/"
        },
        "id": "9NL4gH2z5GfX",
        "outputId": "158850ff-20e0-4494-d992-cd3fe6bc8609"
      },
      "execution_count": 32,
      "outputs": [
        {
          "output_type": "stream",
          "name": "stdout",
          "text": [
            "input: [ 0.53061953 -0.01808378  0.42686665  0.19080753 -0.62888173]\n",
            "objective is: 0.0008959989828500646\n",
            "gradient is: [ 1.06123905e-03 -3.61675543e-05  8.53733300e-04  3.81615050e-04\n",
            " -1.25776346e-03]\n",
            "hessian is: [[0.002 0.    0.    0.    0.   ]\n",
            " [0.    0.002 0.    0.    0.   ]\n",
            " [0.    0.    0.002 0.    0.   ]\n",
            " [0.    0.    0.    0.002 0.   ]\n",
            " [0.    0.    0.    0.    0.002]]\n",
            "flat hessian is: [0.002 0.    0.    0.    0.    0.    0.002 0.    0.    0.    0.    0.\n",
            " 0.002 0.    0.    0.    0.    0.    0.002 0.    0.    0.    0.    0.\n",
            " 0.002]\n"
          ]
        }
      ]
    },
    {
      "cell_type": "markdown",
      "metadata": {
        "id": "QiYXcrNuV5jt"
      },
      "source": [
        "# Step 1: create the model\n",
        "\n",
        "This step is the same as the brachistochrone example"
      ]
    },
    {
      "cell_type": "code",
      "execution_count": 7,
      "metadata": {
        "id": "WVrfw3Ir0gwL"
      },
      "outputs": [],
      "source": [
        "%matplotlib inline\n",
        "import logging\n",
        "import sys\n",
        "import numpy as np\n",
        "from typing import Any, Dict\n",
        "\n",
        "from matplotlib import pyplot as plt\n",
        "\n",
        "import lumos.numpy as lnp\n",
        "from lumos.models.base import StateSpaceModel, StateSpaceModelReturn, state_space_io\n",
        "from lumos.optimal_control.scaled_mesh_ocp import ScaledMeshOCP\n",
        "from lumos.optimal_control.config import (\n",
        "    BoundaryConditionConfig,\n",
        "    BoundConfig,\n",
        ")\n",
        "\n",
        "@state_space_io(states=(\"v\", \"x\", \"y\"), inputs=(\"theta\",), outputs=(\"theta\",))\n",
        "class Brachistochrone(StateSpaceModel):\n",
        "    \"\"\"The Brachistochrone model formulatd in the time domain\"\"\"\n",
        "\n",
        "    def __init__(\n",
        "        self, model_config: Dict[str, Any] = {}, params: Dict[str, Any] = {},\n",
        "    ):\n",
        "        super().__init__(model_config=model_config, params=params)\n",
        "\n",
        "    def forward(\n",
        "        self,\n",
        "        states: Dict[str, float],\n",
        "        inputs: Dict[str, float],\n",
        "        mesh: float = 0.0,  # time invariant model\n",
        "    ) -> StateSpaceModelReturn:\n",
        "        params = self._params\n",
        "        theta = inputs[\"theta\"]\n",
        "        v = states[\"v\"]\n",
        "        v_dot = -params[\"gravity\"] * lnp.sin(theta)\n",
        "\n",
        "        dx_dt = lnp.cos(theta) * v\n",
        "        dy_dt = lnp.sin(theta) * v\n",
        "\n",
        "        # Assemble result\n",
        "        states_dot = self.make_dict(group=\"states_dot\", v=v_dot, x=dx_dt, y=dy_dt,)\n",
        "        outputs = self.make_dict(group=\"outputs\", theta=theta)\n",
        "        return self.make_state_space_model_return(\n",
        "            states_dot=states_dot, outputs=outputs\n",
        "        )\n",
        "\n",
        "    @classmethod\n",
        "    def get_default_params(self) -> Dict[str, Any]:\n",
        "        return {\"gravity\": 9.81}"
      ]
    },
    {
      "cell_type": "markdown",
      "source": [
        "# Step 2: create problem with custom objective\n",
        "\n",
        "To create custom objective, we need to:\n",
        "\n",
        "\n",
        "1.   define new objective function, gradient and flat hessian (already done in the earlier step\n",
        "2.   overwrite the `_build_objective` method of `ScaledMeshOCP`, in which we create new `BaseObjective` objects and add it to the problem\n",
        "\n",
        "See doc from `lumos.optimal_control.nlp.BaseObjective`\n",
        "```python\n",
        "class BaseObjective:\n",
        "    def __init__(\n",
        "        self,\n",
        "        num_in: int,\n",
        "        objective: Callable,\n",
        "        gradient: Callable,\n",
        "        hessian: Callable,\n",
        "        hessian_structure: Optional[Tuple[np.ndarray, np.ndarray]] = None,\n",
        "    ):\n",
        "        \"\"\"Create an objective object that can be used by OCP.\n",
        "\n",
        "        Args:\n",
        "            num_in (int): number of inputs, or decision variables\n",
        "\n",
        "            objective (Callable): an unscaled function f(x) that takes in the input x\n",
        "            and returns a scalar objective value.\n",
        "\n",
        "            gradient (Callable): an unscaled function g(x) that takes in the input x and\n",
        "            returns an array that is the same size as x.\n",
        "\n",
        "            hessian (Callable): an unscaled function h(x) that returns a 1d array of the\n",
        "            non-zero elements in the hessian, that has the same length as the indicdes\n",
        "            in hessian_structrue.\n",
        "\n",
        "            hessian_structure (Optional[Tuple[np.ndarray, np.ndarray]], optional): a\n",
        "            tuple of 2 equal-size arrays of (rows, cols) that gives the row and column\n",
        "            indices of the non-sparse elements. If not given, then it is assumed the\n",
        "            hessian is fully dense.\n",
        "        \"\"\"\n",
        "```\n",
        "\n",
        "\n",
        "and doc from `lumos.optimal_control.scaled_mesh_ocp.ScaledMeshOCP._build_objective`:\n",
        "```python\n",
        "    def _build_objective(self):\n",
        "        \"\"\"Builds the objecitve functions for the OCP.\n",
        "\n",
        "        NOTE:\n",
        "        - by default, this builds a total time objective (which also serves as an\n",
        "        example).\n",
        "        - if the user wants custom objective, then this method must be overwritten by a\n",
        "        child class: see lumos.simulations.laptime_simulation._build_objective\n",
        "        - for how to construct an objective object, see:\n",
        "        lumos.optimal_control.nlp.BaseObjective for more details.\n",
        "        - when multiple objectives are added, then the final objecitve funtion is the\n",
        "        sum of all the objectives provided.\n",
        "        - the user does NOT have to scale the inputs for the objectives yet, the OCP\n",
        "        will do that to all objecitves simultaneously. \n",
        "        \"\"\"\n",
        "```\n"
      ],
      "metadata": {
        "id": "ehXGghJ_4gL5"
      }
    },
    {
      "cell_type": "code",
      "source": [
        "from lumos.optimal_control.nlp import BaseObjective\n",
        "\n",
        "class CustomSimulation(ScaledMeshOCP):\n",
        "    \"\"\"Create a custom simulation\n",
        "    \n",
        "    The onlything custom is the objective, we inherit everything else from the\n",
        "    base class.\n",
        "    \"\"\"\n",
        "    def _build_objective(self):\n",
        "        # Here we call the base class method, as it adds a time objective, which\n",
        "        # we still need. Alternatively we could also create it again here.\n",
        "        super()._build_objective()\n",
        "\n",
        "        # Add the new objecitve using functions we get from AD.\n",
        "        obj1 = BaseObjective(num_in=self.num_dec,\n",
        "                            objective=new_obj_fn,\n",
        "                            gradient=new_grad,\n",
        "                            hessian=flat_hess)\n",
        "        self.add_objective(\"obj1\", obj1)\n"
      ],
      "metadata": {
        "id": "f_sD2_eN4kMC"
      },
      "execution_count": 30,
      "outputs": []
    },
    {
      "cell_type": "markdown",
      "source": [
        "# Step 3: solve\n",
        "And that's it!\n",
        "\n",
        "The next step is the same as the brachistochrone example, except that now we solve the new customized problem\n",
        "\n"
      ],
      "metadata": {
        "id": "yuKAQZId4k6F"
      }
    },
    {
      "cell_type": "code",
      "source": [
        "def solve_with_ad(dx, dy, backend):\n",
        "    model = Brachistochrone()\n",
        "    sim_config = ScaledMeshOCP.get_sim_config(\n",
        "        boundary_conditions=(\n",
        "            BoundaryConditionConfig(0, \"states\", \"x\", 0.0),\n",
        "            BoundaryConditionConfig(0, \"states\", \"y\", 0.0),\n",
        "            BoundaryConditionConfig(0, \"states\", \"v\", 0.0),\n",
        "            BoundaryConditionConfig(-1, \"states\", \"x\", dx),\n",
        "            BoundaryConditionConfig(-1, \"states\", \"y\", dy),\n",
        "        ),\n",
        "        bounds=(\n",
        "            BoundConfig(\"global\", \"mesh_scale\", (0.01, 10.0)),\n",
        "            BoundConfig(\"inputs\", \"theta\", (-np.pi / 2, np.pi / 2)),\n",
        "        ),\n",
        "        num_intervals=49,\n",
        "        hessian_approximation=\"exact\",\n",
        "        backend=backend,\n",
        "        # transcription=\"LGR\",\n",
        "        # is_condensed=False,\n",
        "    )\n",
        "    ocp = CustomSimulation(model=model, sim_config=sim_config)\n",
        "    # Very casual initial guess -- just all zeros.\n",
        "    x0 = np.zeros(ocp.num_dec)\n",
        "    solution, info = ocp.solve(\n",
        "        x0,\n",
        "        max_iter=200,\n",
        "        print_level=1,\n",
        "        print_timing_statistics=\"no\",\n",
        "        derivative_test=\"none\",\n",
        "    )\n",
        "    vars = ocp.dec_var_operator.unflatten_var(solution)\n",
        "    op = ocp.dec_var_operator\n",
        "    final_t = ocp.objective(solution)\n",
        "    y = vars.states[:, op.get_var_index_in_group(\"states\", \"y\")]\n",
        "    x = vars.states[:, op.get_var_index_in_group(\"states\", \"x\")]\n",
        "    v = vars.states[:, op.get_var_index_in_group(\"states\", \"v\")]\n",
        "    theta = vars.states[:, op.get_var_index_in_group(\"inputs\", \"theta\")]\n",
        "    t = ocp.get_mesh_from_scale(vars.mesh_scale)\n",
        "    min_y = np.min(y)\n",
        "    logger.info(f\"minimum height {min_y:.3f}\")\n",
        "    logger.info(f\"final time {final_t:.3f}\")\n",
        "    return t, x, y, v, theta\n",
        "\n",
        "logger = logging.getLogger()\n",
        "logger.setLevel(logging.INFO)\n",
        "t, x, y, v, theta = solve_with_ad(1.0, -0.65, backend=\"jax\")\n",
        "\n",
        "# Visualize the result\n",
        "fig = plt.figure()\n",
        "ax1 = fig.add_subplot(211)\n",
        "ax1.set_xlabel('x')\n",
        "ax1.set_ylabel('y')\n",
        "ax1.plot(x, y)\n",
        "ax1.set_aspect('equal', adjustable='box')\n",
        "\n",
        "ax2 = fig.add_subplot(212)\n",
        "ax2.set_xlabel('t')\n",
        "ax2.set_ylabel('v')\n",
        "ax2.plot(t, v)\n",
        "\n",
        "fig.tight_layout()"
      ],
      "metadata": {
        "colab": {
          "base_uri": "https://localhost:8080/",
          "height": 671
        },
        "id": "rUusxs3h4sv0",
        "outputId": "814178e1-d3bf-4311-8109-1a5b1a8ec7f6"
      },
      "execution_count": 31,
      "outputs": [
        {
          "output_type": "stream",
          "name": "stderr",
          "text": [
            "INFO:lumos.optimal_control.scaled_mesh_ocp:Triggering jax JIT\n",
            "INFO:lumos.optimal_control.nlp:Time NLP execution\n",
            "INFO:lumos.optimal_control.nlp:time.objective: 0.000454\n",
            "INFO:lumos.optimal_control.nlp:time.gradient: 0.000024\n",
            "INFO:lumos.optimal_control.nlp:time.hessian: 0.000009\n",
            "INFO:lumos.optimal_control.nlp:obj1.objective: 0.000064\n",
            "INFO:lumos.optimal_control.nlp:obj1.gradient: 0.006920\n",
            "INFO:lumos.optimal_control.nlp:obj1.hessian: 0.020031\n",
            "INFO:lumos.optimal_control.nlp:model_algebra.constraints: 0.000450\n",
            "INFO:lumos.optimal_control.nlp:model_algebra.jacobian: 0.000432\n",
            "INFO:lumos.optimal_control.nlp:model_algebra.hessian: 0.000636\n",
            "INFO:lumos.optimal_control.nlp:continuity.constraints: 0.001512\n",
            "INFO:lumos.optimal_control.nlp:continuity.jacobian: 0.001631\n",
            "INFO:lumos.optimal_control.nlp:continuity.hessian: 0.000764\n",
            "INFO:lumos.optimal_control.nlp:nlp.objective: 0.000550\n",
            "INFO:lumos.optimal_control.nlp:nlp.gradient: 0.004044\n",
            "INFO:lumos.optimal_control.nlp:nlp.constraints: 0.003675\n",
            "INFO:lumos.optimal_control.nlp:nlp.jacobian: 0.003165\n",
            "INFO:lumos.optimal_control.nlp:nlp.hessian: 0.020493\n",
            "INFO:lumos.optimal_control.scaled_mesh_ocp:Triggering jax JIT completed\n",
            "INFO:root:minimum height -0.650\n",
            "INFO:root:final time 2.114\n"
          ]
        },
        {
          "output_type": "display_data",
          "data": {
            "text/plain": [
              "<Figure size 432x288 with 2 Axes>"
            ],
            "image/png": "[encoded data removed]"
          },
          "metadata": {
            "needs_background": "light"
          }
        }
      ]
    },
    {
      "cell_type": "code",
      "source": [
        ""
      ],
      "metadata": {
        "id": "XK46Mi0W6iQ0"
      },
      "execution_count": null,
      "outputs": []
    }
  ],
  "metadata": {
    "colab": {
      "collapsed_sections": [],
      "name": "Custom Objective",
      "provenance": [],
      "toc_visible": true,
      "include_colab_link": true
    },
    "kernelspec": {
      "display_name": "Python 3",
      "name": "python3"
    }
  },
  "nbformat": 4,
  "nbformat_minor": 0
}